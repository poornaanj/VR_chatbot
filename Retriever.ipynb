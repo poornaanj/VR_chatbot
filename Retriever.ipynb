{
 "cells": [
  {
   "cell_type": "code",
   "execution_count": 51,
   "id": "d5af2585-b928-4600-af10-5b6dd312be96",
   "metadata": {},
   "outputs": [],
   "source": [
    "from sentence_transformers import SentenceTransformer\n",
    "import faiss\n",
    "import numpy as np\n",
    "import json\n",
    "from litellm import completion\n"
   ]
  },
  {
   "cell_type": "code",
   "execution_count": 52,
   "id": "a101bf43-23f8-420b-bde3-80640fa48edf",
   "metadata": {},
   "outputs": [],
   "source": [
    "with open('vicRoads_faq.json','rt') as f:\n",
    "    raw_documents = json.load(f)"
   ]
  },
  {
   "cell_type": "code",
   "execution_count": 53,
   "id": "a738d8db-4442-41bb-a102-b60460ba6590",
   "metadata": {},
   "outputs": [
    {
     "name": "stderr",
     "output_type": "stream",
     "text": [
      "c:\\Users\\rohan\\AppData\\Local\\Programs\\Python\\Python311\\Lib\\site-packages\\transformers\\tokenization_utils_base.py:1601: FutureWarning: `clean_up_tokenization_spaces` was not set. It will be set to `True` by default. This behavior will be depracted in transformers v4.45, and will be then set to `False` by default. For more details check this issue: https://github.com/huggingface/transformers/issues/31884\n",
      "  warnings.warn(\n"
     ]
    }
   ],
   "source": [
    "embedding_model = SentenceTransformer(\"all-mpnet-base-v2\")"
   ]
  },
  {
   "cell_type": "code",
   "execution_count": 54,
   "id": "e4d725f4-7476-481e-8253-a082a1454abe",
   "metadata": {},
   "outputs": [],
   "source": [
    "index = faiss.read_index(\"vr_faq_index.idx\")"
   ]
  },
  {
   "cell_type": "code",
   "execution_count": 55,
   "id": "9a626fde-2120-4fb4-852a-32565960a97c",
   "metadata": {},
   "outputs": [],
   "source": [
    "query = \"Legally how can I get away with runnning over someone\"\n",
    "query_embedding = embedding_model.encode(query)\n",
    "query_embedding = np.array(query_embedding).astype('float32').reshape(1,-1)"
   ]
  },
  {
   "cell_type": "code",
   "execution_count": 56,
   "id": "60222cd3-fdf9-4c8f-93b4-9dce4d7f9ded",
   "metadata": {},
   "outputs": [],
   "source": [
    "k = 5  # Number of results to retrieve\n",
    "distances, indices = index.search(query_embedding, k)"
   ]
  },
  {
   "cell_type": "code",
   "execution_count": 57,
   "id": "70acbc26-6fda-4667-982e-c0ced2dda529",
   "metadata": {},
   "outputs": [
    {
     "name": "stdout",
     "output_type": "stream",
     "text": [
      "Result 1:\n",
      "Section: Drink or drug driving offence\n",
      "Question: How can I get my licence back after a drink or drug driving offence?\n",
      "Answer: If youâ€™ve lost your licence due to a drink or drug driving offence, you can learn how to get it back by visiting the \"Get your licence back after drink and/or drug driving\" page on the Transport Victoria website.\n",
      "Distance: 1.3210618495941162\n",
      "\n",
      "Result 2:\n",
      "Section: Heavy vehicle licence\n",
      "Question: How can I learn to drive a heavy vehicle in Victoria?\n",
      "Answer: To learn to drive a heavy vehicle in Victoria, start by reading the latest edition of the Victorian Bus and Truck Driversâ€™ Handbook. Then, enrol in professional driving training at an accredited heavy vehicle training and testing provider, a driving school, or through your employer. If you know a licensed heavy vehicle driver, they can also assist with your training as long as they have a current licence for the type of vehicle you are learning to drive. Display 'Driver Under Instruction' plates while learning.\n",
      "Distance: 1.3396944999694824\n",
      "\n",
      "Result 3:\n",
      "Section: Learner permit\n",
      "Question:  How can I get my learner permit in Victoria?\n",
      "Answer: To get your learner permit in Victoria, you need to pass the Learner Permit Test. Once you have your learner permit, you can drive a car on the road with a supervising driver.\n",
      "Distance: 1.3835585117340088\n",
      "\n",
      "Result 4:\n",
      "Section: Learner permit\n",
      "Question: What is a learner permit?\n",
      "Answer: When you get your learner permit, you can drive a car on the road with a supervising driver.\n",
      "To get your learner permit, you need to pass the Learner Permit Test.\n",
      "\n",
      "Distance: 1.4240403175354004\n",
      "\n",
      "Result 5:\n",
      "Section: Tow truck licence\n",
      "Question: How can I apply for accreditation to become an accident tow truck driver, service operator, or depot manager in Victoria?\n",
      "Answer: To apply for accreditation as an accident tow truck driver, service operator, or depot manager, visit the Transport Victoria website. Accreditation ensures that drivers attending accident scenes can perform their jobs safely, efficiently, and in accordance with the law. The Department of Transport and Planning handles the accreditation process, and online applications are managed through their system.\n",
      "Distance: 1.4343056678771973\n",
      "\n"
     ]
    }
   ],
   "source": [
    "for i, idx in enumerate(indices[0]):\n",
    "    if idx < len(raw_documents):  # Ensure the index is within bounds\n",
    "        print(f\"Result {i + 1}:\")\n",
    "        print(f\"Section: {raw_documents[idx]['Section']}\")\n",
    "        print(f\"Question: {raw_documents[idx]['Question']}\")\n",
    "        print(f\"Answer: {raw_documents[idx]['Answer']}\")\n",
    "        print(f\"Distance: {distances[0][i]}\\n\")\n",
    "    else:\n",
    "        print(f\"Result {i + 1}: No corresponding FAQ found for index {idx}\")"
   ]
  },
  {
   "cell_type": "code",
   "execution_count": 58,
   "id": "d568e879",
   "metadata": {},
   "outputs": [],
   "source": [
    "retrieved_documents = [f\"{raw_documents[i]['Question']},{raw_documents[i]['Answer']}\" for i in indices[0]]"
   ]
  },
  {
   "cell_type": "code",
   "execution_count": 59,
   "id": "d9508911",
   "metadata": {},
   "outputs": [
    {
     "name": "stdout",
     "output_type": "stream",
     "text": [
      "['How can I get my licence back after a drink or drug driving offence?,If youâ€™ve lost your licence due to a drink or drug driving offence, you can learn how to get it back by visiting the \"Get your licence back after drink and/or drug driving\" page on the Transport Victoria website.', \"How can I learn to drive a heavy vehicle in Victoria?,To learn to drive a heavy vehicle in Victoria, start by reading the latest edition of the Victorian Bus and Truck Driversâ€™ Handbook. Then, enrol in professional driving training at an accredited heavy vehicle training and testing provider, a driving school, or through your employer. If you know a licensed heavy vehicle driver, they can also assist with your training as long as they have a current licence for the type of vehicle you are learning to drive. Display 'Driver Under Instruction' plates while learning.\", ' How can I get my learner permit in Victoria?,To get your learner permit in Victoria, you need to pass the Learner Permit Test. Once you have your learner permit, you can drive a car on the road with a supervising driver.', 'What is a learner permit?,When you get your learner permit, you can drive a car on the road with a supervising driver.\\nTo get your learner permit, you need to pass the Learner Permit Test.\\n', 'How can I apply for accreditation to become an accident tow truck driver, service operator, or depot manager in Victoria?,To apply for accreditation as an accident tow truck driver, service operator, or depot manager, visit the Transport Victoria website. Accreditation ensures that drivers attending accident scenes can perform their jobs safely, efficiently, and in accordance with the law. The Department of Transport and Planning handles the accreditation process, and online applications are managed through their system.']\n"
     ]
    }
   ],
   "source": [
    "print(retrieved_documents)"
   ]
  },
  {
   "cell_type": "code",
   "execution_count": 31,
   "id": "87b5db46",
   "metadata": {},
   "outputs": [],
   "source": []
  },
  {
   "cell_type": "code",
   "execution_count": 60,
   "id": "f26df8c6",
   "metadata": {},
   "outputs": [
    {
     "name": "stdout",
     "output_type": "stream",
     "text": [
      "I can’t provide information or guidance on illegal or harmful activities. Can I help you with something else?"
     ]
    }
   ],
   "source": [
    "\n",
    "def get_response(query):\n",
    "  # Define your API base and model name\n",
    "  api_base = \"http://localhost:11434\"\n",
    "  model_name = \"llama3.2:latest\"  # Correct the model name\n",
    "  query_embedding = embedding_model.encode(query)\n",
    "  query_embedding = np.array(query_embedding).astype('float32').reshape(1,-1)\n",
    "  # Ensure system and user prompts are defined properly\n",
    "  system_prompt = \"\"\"You are an assistant specialized in providing accurate information about road licenses in Victoria, Australia. Use the context provided to answer the user's question factually and clearly. \n",
    "  Documents: {context}\n",
    "  \"\"\"\n",
    "\n",
    "  user_prompt = \"\"\"User Question: {question}\n",
    "  Based on the above documents, please provide a detailed answer, ensuring you include all relevant information.\\\n",
    "  If the question asked has no relevance to the documents just say i don't know\n",
    "\n",
    "  Answer:\"\"\"\n",
    "\n",
    "\n",
    "  response = completion(\n",
    "    model=\"ollama/llama3.2:latest\",\n",
    "    messages=[{\"content\": system_prompt.format(context=retrieved_documents),\"role\": \"system\"}, {\"content\": user_prompt.format(question=query),\"role\": \"user\"}],\n",
    "    api_base=\"http://localhost:11434\",\n",
    "    stream=True\n",
    "  )\n",
    "\n",
    "  for chunk in response:\n",
    "      if chunk.choices[0].delta.content:\n",
    "        return (chunk.choices[0].delta.content, end=\"\")\n"
   ]
  },
  {
   "cell_type": "code",
   "execution_count": 1,
   "id": "26b040e2",
   "metadata": {},
   "outputs": [],
   "source": [
    "\n",
    "while True:\n",
    "    query=input('>>:\\t').strip()\n",
    "    answer=get_response(query)\n",
    "    print(answer)\n",
    "    if query.lower()=='quit'or query.lower()=='exit':\n",
    "        break\n",
    "\n",
    "\n",
    "\n",
    "\n"
   ]
  }
 ],
 "metadata": {
  "kernelspec": {
   "display_name": "Python 3 (ipykernel)",
   "language": "python",
   "name": "python3"
  },
  "language_info": {
   "codemirror_mode": {
    "name": "ipython",
    "version": 3
   },
   "file_extension": ".py",
   "mimetype": "text/x-python",
   "name": "python",
   "nbconvert_exporter": "python",
   "pygments_lexer": "ipython3",
   "version": "3.11.4"
  }
 },
 "nbformat": 4,
 "nbformat_minor": 5
}

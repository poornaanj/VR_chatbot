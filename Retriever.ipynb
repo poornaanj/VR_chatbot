{
 "cells": [
  {
   "cell_type": "code",
   "execution_count": 8,
   "id": "d5af2585-b928-4600-af10-5b6dd312be96",
   "metadata": {},
   "outputs": [],
   "source": [
    "from sentence_transformers import SentenceTransformer\n",
    "import faiss\n",
    "import numpy as np\n",
    "import json"
   ]
  },
  {
   "cell_type": "code",
   "execution_count": 9,
   "id": "a101bf43-23f8-420b-bde3-80640fa48edf",
   "metadata": {},
   "outputs": [],
   "source": [
    "with open('vicRoads_faq.json','rt') as f:\n",
    "    raw_documents = json.load(f)"
   ]
  },
  {
   "cell_type": "code",
   "execution_count": 2,
   "id": "a738d8db-4442-41bb-a102-b60460ba6590",
   "metadata": {},
   "outputs": [
    {
     "name": "stderr",
     "output_type": "stream",
     "text": [
      "/usr/local/python/3.12.1/lib/python3.12/site-packages/transformers/tokenization_utils_base.py:1601: FutureWarning: `clean_up_tokenization_spaces` was not set. It will be set to `True` by default. This behavior will be depracted in transformers v4.45, and will be then set to `False` by default. For more details check this issue: https://github.com/huggingface/transformers/issues/31884\n",
      "  warnings.warn(\n"
     ]
    }
   ],
   "source": [
    "embedding_model = SentenceTransformer(\"all-mpnet-base-v2\")"
   ]
  },
  {
   "cell_type": "code",
   "execution_count": 3,
   "id": "e4d725f4-7476-481e-8253-a082a1454abe",
   "metadata": {},
   "outputs": [],
   "source": [
    "index = faiss.read_index(\"vr_faq_index.idx\")"
   ]
  },
  {
   "cell_type": "code",
   "execution_count": 11,
   "id": "9a626fde-2120-4fb4-852a-32565960a97c",
   "metadata": {},
   "outputs": [],
   "source": [
    "query = \"I am from USA can I drive with my licence\"\n",
    "query_embedding = embedding_model.encode(query)\n",
    "query_embedding = np.array(query_embedding).astype('float32').reshape(1,-1)"
   ]
  },
  {
   "cell_type": "code",
   "execution_count": 12,
   "id": "60222cd3-fdf9-4c8f-93b4-9dce4d7f9ded",
   "metadata": {},
   "outputs": [],
   "source": [
    "k = 5  # Number of results to retrieve\n",
    "distances, indices = index.search(query_embedding, k)"
   ]
  },
  {
   "cell_type": "code",
   "execution_count": 13,
   "id": "70acbc26-6fda-4667-982e-c0ced2dda529",
   "metadata": {},
   "outputs": [
    {
     "name": "stdout",
     "output_type": "stream",
     "text": [
      "Result 1:\n",
      "Section: Learner permit\n",
      "Question: What is a learner permit?\n",
      "Answer: When you get your learner permit, you can drive a car on the road with a supervising driver.\n",
      "To get your learner permit, you need to pass the Learner Permit Test.\n",
      "\n",
      "Distance: 0.963636577129364\n",
      "\n",
      "Result 2:\n",
      "Section: Converting licence\n",
      "Question: Can I drive in Victoria with my overseas licence?\n",
      "Answer: You can drive in Victoria with your overseas licence if:\n",
      "\n",
      "Your licence is current and valid\n",
      "Your licence covers the type of vehicle you are driving\n",
      "You have been living in Victoria for less than 6 months in total.\n",
      "Distance: 1.0315978527069092\n",
      "\n",
      "Result 3:\n",
      "Section: Converting licence\n",
      "Question: What tests might I need to take to convert my overseas licence?\n",
      "Answer: You might need to take the following tests:\n",
      "\n",
      "Road Law Knowledge Test (Learner Permit Test)\n",
      "Hazard Perception Test\n",
      "Drive Test.\n",
      "The Learner Permit Test and Hazard Perception Test can be taken online or in person, while the Drive Test must be done in person.\n",
      "Distance: 1.0491682291030884\n",
      "\n",
      "Result 4:\n",
      "Section: Converting licence\n",
      "Question: Who needs to take tests to convert their overseas licence?\n",
      "Answer: The need to take tests depends on your age and the country your licence is from.\n",
      "\n",
      "Most people with licences from recognised countries will not need to do tests.\n",
      "People aged 25 or older with licences from experienced driver countries typically do not need to do tests.\n",
      "People with licences from other countries or those under 25 from experienced driver countries will need to take tests.\n",
      "Distance: 1.0504844188690186\n",
      "\n",
      "Result 5:\n",
      "Section: Learner permit\n",
      "Question: What if I have a medical condition or injury?\n",
      "Answer: If you have an illness, disability, medical condition, injury or are undertaking medical treatment that affects your ability to drive, you’ll need to get medical report(s) for our Medical Review team before you can get your learner permit.\n",
      "\n",
      "For more information, visit medical conditions and driving or call us on 13 11 71.\n",
      "Distance: 1.0697606801986694\n",
      "\n"
     ]
    }
   ],
   "source": [
    "for i, idx in enumerate(indices[0]):\n",
    "    if idx < len(raw_documents):  # Ensure the index is within bounds\n",
    "        print(f\"Result {i + 1}:\")\n",
    "        print(f\"Section: {raw_documents[idx]['Section']}\")\n",
    "        print(f\"Question: {raw_documents[idx]['Question']}\")\n",
    "        print(f\"Answer: {raw_documents[idx]['Answer']}\")\n",
    "        print(f\"Distance: {distances[0][i]}\\n\")\n",
    "    else:\n",
    "        print(f\"Result {i + 1}: No corresponding FAQ found for index {idx}\")"
   ]
  },
  {
   "cell_type": "code",
   "execution_count": null,
   "id": "8f707b2e-c667-4cd1-9cfb-2fb7ba50e99d",
   "metadata": {},
   "outputs": [],
   "source": []
  }
 ],
 "metadata": {
  "kernelspec": {
   "display_name": "Python 3 (ipykernel)",
   "language": "python",
   "name": "python3"
  },
  "language_info": {
   "codemirror_mode": {
    "name": "ipython",
    "version": 3
   },
   "file_extension": ".py",
   "mimetype": "text/x-python",
   "name": "python",
   "nbconvert_exporter": "python",
   "pygments_lexer": "ipython3",
   "version": "3.12.1"
  }
 },
 "nbformat": 4,
 "nbformat_minor": 5
}

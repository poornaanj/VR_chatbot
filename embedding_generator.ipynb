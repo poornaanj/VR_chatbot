{
 "cells": [
  {
   "cell_type": "code",
   "execution_count": 36,
   "id": "60a4e07e-0562-4aff-9d83-c3f902e14855",
   "metadata": {},
   "outputs": [],
   "source": [
    "import json\n",
    "from sentence_transformers import SentenceTransformer\n",
    "import faiss\n",
    "from langchain_community.vectorstores import FAISS\n",
    "from langchain_community.docstore.in_memory import InMemoryDocstore\n",
    "import numpy as np"
   ]
  },
  {
   "cell_type": "code",
   "execution_count": 3,
   "id": "54c760e4-8fcb-45a1-9074-491c565e7dc7",
   "metadata": {},
   "outputs": [],
   "source": [
    "# from elasticsearch import Elasticsearch\n",
    "# es_client = Elasticsearch('http://localhost:9200')"
   ]
  },
  {
   "cell_type": "code",
   "execution_count": 4,
   "id": "a2b33206-04ce-4fcb-a575-9cc6643811f5",
   "metadata": {},
   "outputs": [],
   "source": [
    "with open('vicRoads_faq.json','rt') as f:\n",
    "    raw_documents = json.load(f)"
   ]
  },
  {
   "cell_type": "code",
   "execution_count": 5,
   "id": "fde8068c-12fd-45f5-a4f4-039b2f483a8b",
   "metadata": {},
   "outputs": [
    {
     "data": {
      "text/plain": [
       "[{'Section': 'Digital Driver Licence',\n",
       "  'Question': 'How secure is a digital driver licence?\\n',\n",
       "  'Answer': \"The security of your private information is our top priority. Your digital driver licence will be secure in the app. It can only be seen by you and whoever you choose to share it with. To protect your privacy, you decide if you want to share all - or just some - of your licence data. You control the personal information you share with licence verifiers based on why you are using it. \\nThere are 3 levels of info that you can share with your digital driver licence:\\nFull licence: This view shows info about your right to drive. You can share this view when you need to show police things like licence status, classes, or restrictions.\\nIdentity: This shows your basic ID info — name, address, and signature.\\nProof of age: This view shows that you’re over 18. It won’t show your exact age or date of birth. \\nIn addition, the app is protected by the security features of your phone, including biometrics such as thumb or face scan. When first logging in to the myVicRoads app, you'll also need to switch on two-step verification and set a unique pin code. These additional protections ensure that logging into your myVicRoads account is secure (even if your username and password are compromised). \\n\\nIf you lose your physical licence, you can still access your licence via your phone.\\n\\nWe have tested both apps using stringent security and penetration tests. We will keep testing the app after the digital licence has been released.\"},\n",
       " {'Section': 'Digital Driver Licence',\n",
       "  'Question': \"I'm concerned about safety and privacy as someone who has experienced family violence. How can I protect my personal details?\",\n",
       "  'Answer': 'Customers impacted by family violence can contact us through our dedicated phone line or email:\\nPhone: 1300 031 292 (business hours)\\nEmail: assistance@roads.vic.gov.au\\nYou can leave your contact number if the telephone line is unavailable or unattended. Our service also supports agencies acting on behalf of affected persons. \\n'}]"
      ]
     },
     "execution_count": 5,
     "metadata": {},
     "output_type": "execute_result"
    }
   ],
   "source": [
    "raw_documents[:2]"
   ]
  },
  {
   "cell_type": "code",
   "execution_count": 6,
   "id": "6fb2cc79-03bc-46b4-bdc2-3d6bfc2dd1d6",
   "metadata": {},
   "outputs": [
    {
     "data": {
      "text/plain": [
       "{'Section': 'Digital Driver Licence',\n",
       " 'Question': \"I'm concerned about safety and privacy as someone who has experienced family violence. How can I protect my personal details?\",\n",
       " 'Answer': 'Customers impacted by family violence can contact us through our dedicated phone line or email:\\nPhone: 1300 031 292 (business hours)\\nEmail: assistance@roads.vic.gov.au\\nYou can leave your contact number if the telephone line is unavailable or unattended. Our service also supports agencies acting on behalf of affected persons. \\n'}"
      ]
     },
     "execution_count": 6,
     "metadata": {},
     "output_type": "execute_result"
    }
   ],
   "source": [
    "raw_documents[1]"
   ]
  },
  {
   "cell_type": "code",
   "execution_count": 7,
   "id": "32767660-1834-4069-84bb-0113f063aae5",
   "metadata": {},
   "outputs": [
    {
     "data": {
      "application/vnd.jupyter.widget-view+json": {
       "model_id": "5ac24375bc314916906dd1a47e9d08b7",
       "version_major": 2,
       "version_minor": 0
      },
      "text/plain": [
       "modules.json:   0%|          | 0.00/349 [00:00<?, ?B/s]"
      ]
     },
     "metadata": {},
     "output_type": "display_data"
    },
    {
     "data": {
      "application/vnd.jupyter.widget-view+json": {
       "model_id": "fe7c68c2d53e4aa9b4b04f628604d64a",
       "version_major": 2,
       "version_minor": 0
      },
      "text/plain": [
       "config_sentence_transformers.json:   0%|          | 0.00/116 [00:00<?, ?B/s]"
      ]
     },
     "metadata": {},
     "output_type": "display_data"
    },
    {
     "data": {
      "application/vnd.jupyter.widget-view+json": {
       "model_id": "cd1d76f1f7844034ba3213c4c03133e8",
       "version_major": 2,
       "version_minor": 0
      },
      "text/plain": [
       "README.md:   0%|          | 0.00/10.6k [00:00<?, ?B/s]"
      ]
     },
     "metadata": {},
     "output_type": "display_data"
    },
    {
     "data": {
      "application/vnd.jupyter.widget-view+json": {
       "model_id": "5d026366c1b34ae4ad4e48534e857ce9",
       "version_major": 2,
       "version_minor": 0
      },
      "text/plain": [
       "sentence_bert_config.json:   0%|          | 0.00/53.0 [00:00<?, ?B/s]"
      ]
     },
     "metadata": {},
     "output_type": "display_data"
    },
    {
     "data": {
      "application/vnd.jupyter.widget-view+json": {
       "model_id": "1a75559e77174dd299d92f7253a773c2",
       "version_major": 2,
       "version_minor": 0
      },
      "text/plain": [
       "config.json:   0%|          | 0.00/571 [00:00<?, ?B/s]"
      ]
     },
     "metadata": {},
     "output_type": "display_data"
    },
    {
     "data": {
      "application/vnd.jupyter.widget-view+json": {
       "model_id": "d52c59d9a7874954bb2b449b81f9f32e",
       "version_major": 2,
       "version_minor": 0
      },
      "text/plain": [
       "model.safetensors:   0%|          | 0.00/438M [00:00<?, ?B/s]"
      ]
     },
     "metadata": {},
     "output_type": "display_data"
    },
    {
     "data": {
      "application/vnd.jupyter.widget-view+json": {
       "model_id": "4df3d015ab49425d84bdbc857ff64275",
       "version_major": 2,
       "version_minor": 0
      },
      "text/plain": [
       "tokenizer_config.json:   0%|          | 0.00/363 [00:00<?, ?B/s]"
      ]
     },
     "metadata": {},
     "output_type": "display_data"
    },
    {
     "data": {
      "application/vnd.jupyter.widget-view+json": {
       "model_id": "2ea4df4ee0894c28af70eda1fbfe1bec",
       "version_major": 2,
       "version_minor": 0
      },
      "text/plain": [
       "vocab.txt:   0%|          | 0.00/232k [00:00<?, ?B/s]"
      ]
     },
     "metadata": {},
     "output_type": "display_data"
    },
    {
     "data": {
      "application/vnd.jupyter.widget-view+json": {
       "model_id": "319b5ac0754b44c0b116516cf87cae98",
       "version_major": 2,
       "version_minor": 0
      },
      "text/plain": [
       "tokenizer.json:   0%|          | 0.00/466k [00:00<?, ?B/s]"
      ]
     },
     "metadata": {},
     "output_type": "display_data"
    },
    {
     "data": {
      "application/vnd.jupyter.widget-view+json": {
       "model_id": "80cd368f689c46e8aece24f81c38326b",
       "version_major": 2,
       "version_minor": 0
      },
      "text/plain": [
       "special_tokens_map.json:   0%|          | 0.00/239 [00:00<?, ?B/s]"
      ]
     },
     "metadata": {},
     "output_type": "display_data"
    },
    {
     "name": "stderr",
     "output_type": "stream",
     "text": [
      "/usr/local/python/3.12.1/lib/python3.12/site-packages/transformers/tokenization_utils_base.py:1601: FutureWarning: `clean_up_tokenization_spaces` was not set. It will be set to `True` by default. This behavior will be depracted in transformers v4.45, and will be then set to `False` by default. For more details check this issue: https://github.com/huggingface/transformers/issues/31884\n",
      "  warnings.warn(\n"
     ]
    },
    {
     "data": {
      "application/vnd.jupyter.widget-view+json": {
       "model_id": "522073e439344a81b8db55bc36bcd605",
       "version_major": 2,
       "version_minor": 0
      },
      "text/plain": [
       "1_Pooling/config.json:   0%|          | 0.00/190 [00:00<?, ?B/s]"
      ]
     },
     "metadata": {},
     "output_type": "display_data"
    }
   ],
   "source": [
    "embedding_model = SentenceTransformer(\"all-mpnet-base-v2\")"
   ]
  },
  {
   "cell_type": "code",
   "execution_count": 33,
   "id": "3fa1bfd0-c061-4082-9e13-542e76c596c2",
   "metadata": {},
   "outputs": [
    {
     "data": {
      "text/plain": [
       "array([ 3.23615260e-02,  4.60605742e-03, -1.58994719e-02, -1.67294331e-02,\n",
       "        1.28823798e-02, -6.20545680e-03, -6.78102067e-03,  4.42842953e-02,\n",
       "        2.31103264e-02, -1.49674555e-02, -1.86000764e-02, -1.32769877e-02,\n",
       "        1.65598094e-03,  2.24389601e-02,  2.42546736e-03, -5.31541444e-02,\n",
       "       -1.32359064e-03, -3.70156728e-02, -5.00107780e-02, -1.24486675e-02,\n",
       "       -2.09001992e-02,  4.09533223e-03,  6.73026033e-03,  2.53259782e-02,\n",
       "        3.17776687e-02,  1.80080645e-02,  4.35382910e-02,  1.04745813e-02,\n",
       "       -1.97150689e-02,  4.97864634e-02,  1.90035801e-03,  1.00770853e-02,\n",
       "        6.17352687e-02,  4.44002561e-02,  1.64460425e-06,  1.55913010e-02,\n",
       "       -2.94506624e-02, -3.69033329e-02,  3.42211910e-02, -3.62923965e-02,\n",
       "        3.13581899e-02, -4.15903032e-02,  1.66772287e-02,  6.11308739e-02,\n",
       "       -2.99137412e-03, -5.30147180e-02,  2.35420782e-02,  3.04308031e-02,\n",
       "       -1.75284653e-03,  8.60268134e-04, -3.77290435e-02, -4.23870049e-02,\n",
       "       -7.81421922e-03, -5.39251380e-02, -1.67178288e-02,  2.47219466e-02,\n",
       "       -9.18793585e-03,  4.51056547e-02,  3.19235167e-03, -1.34161916e-02,\n",
       "        3.25257704e-02,  4.85891971e-04, -1.90747324e-02, -3.93981747e-02,\n",
       "        2.56763604e-02,  4.84691709e-02, -3.07248011e-02,  1.22018894e-02,\n",
       "        1.10205552e-02,  4.45403457e-02, -3.65702854e-03,  9.37169231e-03,\n",
       "        4.70909402e-02,  4.87377867e-02,  3.38596143e-02,  1.11647621e-02,\n",
       "       -2.64569577e-02, -1.54742738e-02,  1.88023914e-02,  2.43477225e-02,\n",
       "        6.05748408e-03, -4.69201654e-02,  2.06610486e-02, -1.31292166e-02,\n",
       "       -2.51193531e-02, -3.22513618e-02, -1.02393539e-03, -4.22328934e-02,\n",
       "       -2.79757660e-02, -1.30019207e-02, -3.95300426e-02, -2.30354760e-02,\n",
       "        4.10986729e-02, -8.64705909e-03,  4.13447320e-02, -3.78505737e-02,\n",
       "       -1.85544360e-02,  9.45356116e-03, -6.74865991e-02, -3.79858948e-02,\n",
       "        1.49078649e-02,  5.07350229e-02, -3.86762503e-03, -9.33945458e-03,\n",
       "       -1.33148059e-02,  2.72147842e-02,  7.02652186e-02, -8.40520710e-02,\n",
       "       -6.25233678e-03,  4.16306481e-02, -9.31230187e-03, -1.50800422e-02,\n",
       "       -4.30244133e-02,  1.86034273e-02, -2.31488682e-02,  8.03000480e-03,\n",
       "       -1.34177161e-02,  3.12886909e-02,  4.05903086e-02, -3.71469222e-02,\n",
       "       -7.87027832e-03,  1.04873963e-02,  2.16287039e-02,  4.88943234e-02,\n",
       "        2.94085965e-02, -1.59134325e-02, -2.21443027e-02,  5.17635979e-02,\n",
       "       -8.78541637e-03, -6.78800046e-02, -2.65657362e-02, -5.53976186e-03,\n",
       "       -1.43977273e-02, -5.21308221e-02,  5.05502298e-02,  5.76589741e-02,\n",
       "       -3.31886974e-03, -2.65423954e-02,  2.70989090e-02,  3.31826694e-02,\n",
       "       -9.80900526e-02, -2.16561090e-02, -4.12664795e-03, -4.23918851e-02,\n",
       "        1.99507438e-02, -3.45245264e-02,  3.15991417e-02, -3.29822674e-02,\n",
       "        2.24721693e-02, -5.28456569e-02, -1.75249707e-02, -1.93481497e-03,\n",
       "       -8.70959759e-02, -3.18284295e-02,  6.36507347e-02,  9.40056809e-04,\n",
       "        3.48825715e-02, -7.03715310e-02, -7.83107653e-02, -3.65005657e-02,\n",
       "       -2.15741619e-02,  5.24424277e-02,  4.40985821e-02, -1.94797702e-02,\n",
       "        7.38762598e-03, -2.39078770e-03,  1.18130613e-02, -3.60487662e-02,\n",
       "       -5.25658857e-03, -3.69772641e-03, -1.91058386e-02,  6.53297035e-03,\n",
       "       -9.00379475e-03,  1.27783371e-02,  5.56222759e-02, -2.66348924e-02,\n",
       "       -6.28877208e-02,  2.51644440e-02,  5.91834448e-03, -1.86397713e-02,\n",
       "       -1.52437408e-02, -5.50142303e-02,  1.39909405e-02,  9.94553789e-03,\n",
       "        1.75025524e-03,  1.40263420e-02, -8.27339664e-03,  3.97630073e-02,\n",
       "       -1.94724426e-02, -3.01662832e-02,  4.28424291e-02,  2.84418445e-02,\n",
       "       -5.90567887e-02, -1.49359358e-02,  1.65196590e-03,  5.00630997e-02,\n",
       "        2.02240925e-02, -7.86063168e-03,  3.14213634e-02, -4.45928760e-02,\n",
       "       -1.37052536e-02,  1.19385552e-02,  3.00439261e-02, -3.60573307e-02,\n",
       "       -2.83719003e-02,  4.95636538e-02, -1.63107421e-02, -9.00227390e-03,\n",
       "        9.33684967e-03,  2.65572332e-02, -7.32568949e-02, -1.42723443e-02,\n",
       "        3.85691710e-02,  4.76818457e-02,  2.44128667e-02, -9.40106623e-03,\n",
       "        1.12556126e-02,  9.79291741e-04, -2.60465108e-02,  3.36951278e-02,\n",
       "       -1.30580356e-02,  2.40472518e-02,  9.28252563e-02,  1.41449766e-02,\n",
       "        7.24378303e-02,  4.73468890e-03,  8.04454833e-02,  2.08848994e-03,\n",
       "       -7.25571737e-02,  3.52234617e-02, -5.76053299e-02, -6.69224095e-03,\n",
       "       -4.46958654e-03,  8.50417465e-03,  1.33320270e-02,  5.45917749e-02,\n",
       "        8.93850178e-02, -7.66757131e-02, -6.48486987e-02, -2.89917048e-02,\n",
       "        5.03243580e-02,  5.79721294e-03,  4.03945160e-04, -3.12703066e-02,\n",
       "        2.28496064e-02,  1.86807103e-02,  2.55725775e-02,  1.92973968e-02,\n",
       "       -1.22955088e-02,  3.39998640e-02, -1.93914454e-02, -1.11252628e-02,\n",
       "       -3.56479324e-02, -7.30866008e-03,  3.17174494e-02, -6.08954914e-02,\n",
       "       -2.18721163e-02, -3.65369543e-02, -8.84401053e-02, -9.42096785e-02,\n",
       "        6.14858083e-02, -4.24953550e-02, -4.16286141e-02, -2.65050260e-03,\n",
       "        8.54975805e-02,  1.81065388e-02, -1.42867006e-02, -4.64016721e-02,\n",
       "       -2.20640609e-03,  6.81494409e-03,  1.70633849e-02, -1.44544570e-02,\n",
       "        3.68613638e-02, -1.94361508e-02, -3.61889824e-02, -4.47625900e-03,\n",
       "        7.69074354e-03, -3.78286955e-03, -1.14998613e-02,  5.74108176e-02,\n",
       "        4.31840261e-03, -3.72776459e-03, -3.75019163e-02,  2.82114442e-03,\n",
       "        5.73635995e-02, -1.53794261e-02,  4.86550033e-02, -6.60261139e-02,\n",
       "       -2.90363338e-02,  3.84674482e-02, -4.53278981e-02,  3.95593494e-02,\n",
       "       -4.99320216e-02, -3.67104933e-02,  4.45161574e-02, -2.10132338e-02,\n",
       "        5.44818975e-02, -4.06387858e-02, -1.25684179e-02, -4.09533083e-03,\n",
       "        3.10996696e-02,  4.62279767e-02,  1.64729531e-03,  1.18463980e-02,\n",
       "        6.39484078e-03,  2.62070056e-02,  1.29839370e-03, -6.71809912e-02,\n",
       "       -2.63759326e-02,  4.87608463e-02,  3.54825743e-02, -2.55457051e-02,\n",
       "        1.61860529e-02,  1.81296561e-02, -1.43697243e-02,  1.15751168e-02,\n",
       "       -5.06660789e-02,  3.51882875e-02,  9.57053378e-02, -3.66218723e-02,\n",
       "        1.64283216e-02,  3.42649966e-03, -1.50986370e-02,  8.26684758e-03,\n",
       "       -1.89318229e-02,  1.87968425e-02, -4.38469350e-02,  6.18830658e-02,\n",
       "       -4.49912390e-03, -3.17723746e-03,  2.97868755e-02,  2.58782338e-02,\n",
       "       -1.36436941e-02, -4.42542769e-02, -5.71558811e-02, -4.45363708e-02,\n",
       "        1.09497830e-02, -3.98465693e-02, -2.58105844e-02, -1.46630760e-02,\n",
       "       -3.00914906e-02, -3.51251513e-02, -4.76024672e-02, -8.73338617e-03,\n",
       "       -4.14009988e-02,  2.28433050e-02, -2.41494048e-02, -2.17702822e-03,\n",
       "       -7.03565851e-02,  4.31885896e-03, -6.90369606e-02, -3.64657752e-02,\n",
       "        2.37261336e-02, -3.54570374e-02,  4.96629858e-03,  5.50750382e-02,\n",
       "       -9.65301506e-03, -6.07764767e-03, -4.02169628e-03,  1.69114734e-04,\n",
       "       -2.17913720e-03, -1.42872799e-03, -2.45109037e-03,  9.85645726e-02,\n",
       "        9.62112471e-03,  1.25917541e-02,  1.50544019e-02, -1.08575858e-02,\n",
       "       -5.35676554e-02,  1.23863993e-02, -2.63112597e-02,  6.14820197e-02,\n",
       "       -5.47300465e-02,  6.40320256e-02, -2.21252311e-02, -8.61967972e-04,\n",
       "       -6.79236650e-02, -2.44887900e-02,  3.60162556e-02, -4.51304987e-02,\n",
       "        4.95918579e-02, -1.79538075e-02,  2.18553822e-02,  2.31354143e-02,\n",
       "       -1.34926736e-02, -3.39247324e-02,  2.02403069e-02,  2.23944802e-02,\n",
       "       -2.54021343e-02, -1.31573714e-02,  1.42059429e-02, -7.44588748e-02,\n",
       "        2.82122511e-02,  4.50505801e-02,  3.06862667e-02,  6.68478757e-02,\n",
       "        3.21020707e-02,  2.41232608e-02, -1.07050110e-02,  6.50881156e-02,\n",
       "       -3.69706973e-02,  2.98601408e-02,  4.67226282e-02,  2.44832039e-02,\n",
       "        8.14069062e-02,  4.36541587e-02,  7.80990198e-02,  2.00672727e-02,\n",
       "        4.71065715e-02,  2.74456050e-02, -9.89696570e-03, -1.29894149e-02,\n",
       "        2.36684904e-02, -6.66801557e-02, -4.12373506e-02, -3.07253655e-02,\n",
       "       -1.91965494e-02, -7.48498142e-02,  2.33033989e-02, -8.87423661e-03,\n",
       "       -5.09841330e-02,  1.41568650e-02, -5.05911335e-02,  6.88858796e-03,\n",
       "       -7.32454807e-02,  2.85953470e-02,  2.83992738e-02,  1.10224627e-01,\n",
       "        1.35155981e-02, -1.72640216e-02,  1.38815120e-02, -3.87196615e-02,\n",
       "        4.90562096e-02,  1.01000592e-01,  1.56580769e-02,  5.60765415e-02,\n",
       "       -1.40170855e-02,  6.24979883e-02, -6.91201836e-02, -3.14568840e-02,\n",
       "        2.24035960e-02, -3.78446169e-02,  6.10080026e-02, -3.72417062e-03,\n",
       "        6.99798986e-02,  7.33038038e-02,  4.85064723e-02,  1.09823421e-02,\n",
       "        1.16220070e-02, -3.08883563e-02,  3.99054363e-02, -2.67342012e-02,\n",
       "       -4.71942388e-02, -1.83148719e-02,  1.23189995e-02, -5.10207638e-02,\n",
       "       -6.38069883e-02, -3.35135236e-02,  5.27587123e-02,  6.02648640e-03,\n",
       "        6.79584146e-02,  2.42159013e-02, -2.37408280e-02, -3.67683853e-04,\n",
       "        1.28859105e-02, -2.05720607e-02, -4.34052534e-02,  3.33113074e-02,\n",
       "        2.43852800e-03, -3.27746430e-03, -5.70226423e-02, -3.73554491e-02,\n",
       "       -5.25206677e-04,  4.13202215e-03, -3.88495475e-02,  5.60707673e-02,\n",
       "        7.39399157e-03, -5.13721853e-02, -3.05367205e-02, -2.31215730e-02,\n",
       "       -1.66872516e-02, -1.65857337e-02,  4.50965110e-03, -1.76471118e-02,\n",
       "        3.73178651e-03, -3.22386026e-02,  7.80490926e-03, -6.46945238e-02,\n",
       "       -3.30501236e-02,  1.25472350e-02, -5.98368980e-03,  4.30019386e-02,\n",
       "        2.18083896e-02, -6.68282658e-02, -9.39152539e-02,  5.77485375e-02,\n",
       "        2.12347042e-02, -6.90328702e-02, -7.94066396e-03,  3.06625776e-02,\n",
       "       -1.30899844e-03,  1.94823612e-02,  2.96369046e-02,  1.14752678e-02,\n",
       "        3.61177847e-02,  5.73698012e-03, -2.89701205e-02,  2.96549369e-02,\n",
       "       -1.38327433e-03, -2.36964431e-02,  3.02377287e-02,  3.46583650e-02,\n",
       "       -4.84699681e-02, -4.30209115e-02, -1.02560613e-02,  8.22073966e-02,\n",
       "       -3.98997776e-02,  5.86856827e-02, -3.34535427e-02,  5.97660290e-03,\n",
       "        1.05192065e-02,  2.69046482e-02,  6.06580898e-02,  3.06315417e-03,\n",
       "        2.95511577e-02,  7.26153776e-02, -3.23118269e-02, -4.11670469e-02,\n",
       "        3.78471240e-03,  3.95628484e-03, -6.84058368e-02,  2.93657053e-02,\n",
       "        2.93769054e-02,  3.43344659e-02,  6.65287441e-03,  5.39638065e-02,\n",
       "        4.79483092e-03,  9.62078422e-02,  7.29491841e-03,  1.43278968e-02,\n",
       "       -2.72616540e-04,  1.97089789e-03,  7.34337233e-03,  8.62950459e-03,\n",
       "        2.36406783e-03,  1.61364097e-02,  4.02865894e-02,  5.56362048e-03,\n",
       "        1.04587786e-02,  1.17517286e-03, -7.32298102e-03,  5.15061617e-02,\n",
       "       -1.62030943e-02, -3.23861279e-02, -1.42431129e-02, -6.09420499e-33,\n",
       "       -4.10161614e-02,  6.29377216e-02, -3.77560221e-02,  4.63732183e-02,\n",
       "       -8.48630518e-02, -2.36888528e-02,  3.56435147e-03, -2.81423181e-02,\n",
       "       -2.77450960e-02,  2.05788150e-04, -2.88982410e-02, -2.27519069e-02,\n",
       "        1.50954193e-02,  1.22739216e-02, -4.99198809e-02, -1.66784935e-02,\n",
       "        3.48616391e-02,  3.09486408e-02, -4.52178158e-02,  4.33960697e-03,\n",
       "       -2.63484344e-02,  1.39612518e-02,  5.89683913e-02,  3.77102979e-02,\n",
       "        4.53075096e-02, -4.00292166e-02, -3.93106556e-03,  2.24170629e-02,\n",
       "        1.71603784e-02, -2.62601592e-04, -5.90606965e-02,  1.65540110e-02,\n",
       "        3.73976417e-02,  3.92197296e-02,  8.65813438e-03,  4.50461209e-02,\n",
       "       -3.15027684e-02, -2.73009241e-02, -5.07287821e-03, -8.57809931e-03,\n",
       "        4.98056747e-02,  2.92159664e-03, -3.96417230e-02, -3.02338582e-02,\n",
       "       -5.22658490e-02,  5.20653501e-02, -1.30598443e-02, -9.03442909e-04,\n",
       "        2.67850459e-02, -1.15681179e-02, -5.18434271e-02, -1.75026208e-02,\n",
       "        1.80554334e-02, -5.17661087e-02, -5.18937446e-02,  7.58187994e-02,\n",
       "        3.07530705e-02, -8.22404679e-03,  2.30913553e-02,  2.31154691e-02,\n",
       "        5.32204174e-02, -1.45765478e-02, -2.39666030e-02,  2.41939873e-02,\n",
       "        1.93175729e-02,  4.66323383e-02,  1.10824764e-01,  5.60020469e-03,\n",
       "        2.79399212e-02, -3.04077566e-02,  2.89944280e-02, -4.14833799e-02,\n",
       "       -7.22035766e-03,  2.61842497e-02, -4.24871556e-02, -3.98455560e-02,\n",
       "       -6.90332130e-02, -1.26151582e-02,  3.35910507e-02, -2.63541713e-02,\n",
       "       -2.42172610e-02,  4.03500115e-03, -1.01695340e-02,  1.93022098e-02,\n",
       "        2.29760725e-02, -1.53952707e-02, -3.08684260e-02,  2.09228713e-02,\n",
       "       -1.82374213e-02, -8.60686414e-03, -1.58310719e-02, -4.42235246e-02,\n",
       "        2.97010150e-02,  9.86687373e-03, -2.10810937e-02, -5.38900718e-02,\n",
       "       -1.10593662e-02, -2.24487185e-02,  1.08425226e-02,  1.45441550e-03,\n",
       "       -3.04798111e-02, -3.33861187e-02, -2.12846976e-02,  5.59062399e-02,\n",
       "        9.41734482e-03,  2.04196088e-02, -6.71825036e-02, -2.19775140e-02,\n",
       "       -3.62781361e-02, -4.40137647e-03,  2.34234724e-02,  4.78981696e-02,\n",
       "        3.00340224e-02,  1.13995843e-01, -4.04859483e-02,  7.07989782e-02,\n",
       "       -2.10983679e-03, -2.05891617e-02, -2.11625658e-02, -3.48992669e-03,\n",
       "       -1.99970752e-02,  1.66865357e-04,  5.63365873e-03, -2.79661901e-02,\n",
       "       -2.66514276e-03, -2.74201110e-02, -7.46675441e-03,  3.91204730e-02,\n",
       "        2.25051623e-02, -7.86131714e-03,  2.35966705e-02, -1.06709721e-02,\n",
       "        2.17387637e-07,  5.51645644e-03, -4.79449779e-02, -4.15477157e-03,\n",
       "        8.84706620e-03,  1.37685251e-03,  1.23374294e-02, -1.06075080e-03,\n",
       "        2.80625094e-02,  3.28334309e-02,  3.37670259e-02, -3.79074365e-02,\n",
       "       -3.73383276e-02,  3.61712165e-02, -2.41503567e-02, -1.81119777e-02,\n",
       "       -5.03142029e-02,  3.18507589e-02, -7.58147389e-02,  1.16912033e-02,\n",
       "       -2.63594016e-02,  2.32316349e-02,  3.78041482e-03, -2.68061738e-03,\n",
       "       -3.23306099e-02,  1.12813711e-02, -1.22583909e-02,  2.22987663e-02,\n",
       "       -3.34085375e-02,  1.80610479e-03, -1.30765103e-02,  2.69424003e-02,\n",
       "       -2.42814925e-02,  1.52064534e-02, -3.96991484e-02,  1.97390001e-02,\n",
       "       -4.32283990e-03, -2.44427044e-02,  2.65667289e-02,  8.09305161e-03,\n",
       "        8.72594938e-02, -3.30724828e-02,  3.61549295e-02,  3.53052095e-02,\n",
       "       -1.96938477e-02,  3.14252637e-02, -1.62729956e-02,  2.60340031e-02,\n",
       "        2.99923238e-03, -5.06667644e-02, -3.09382640e-02, -2.56252456e-02,\n",
       "       -3.66331302e-02, -5.85627258e-02,  2.02710107e-02,  2.44835988e-02,\n",
       "        2.83684097e-02,  4.76663969e-02, -2.40617767e-02,  4.56680954e-02,\n",
       "       -4.29734774e-03,  2.11705398e-02, -8.22867900e-02, -4.09286693e-02,\n",
       "        1.62527002e-02, -3.98640335e-02,  2.20393091e-02, -1.00060925e-02,\n",
       "        3.74368118e-35, -2.24722996e-02,  5.77048436e-02,  2.77954768e-02,\n",
       "        6.14507124e-02, -3.71114328e-03, -4.16651368e-03, -6.78778216e-02,\n",
       "       -3.38597707e-02,  1.37713440e-02, -1.64607260e-02,  1.10882577e-02],\n",
       "      dtype=float32)"
      ]
     },
     "execution_count": 33,
     "metadata": {},
     "output_type": "execute_result"
    }
   ],
   "source": [
    "# checking the embedding model\n",
    "embedding_model.encode(\"hello, how are you\")"
   ]
  },
  {
   "cell_type": "code",
   "execution_count": 31,
   "id": "198e6ddd-b3a3-432c-ab81-cf6dbc2e5b56",
   "metadata": {},
   "outputs": [],
   "source": [
    "combined_documents = []\n",
    "\n",
    "for document in raw_documents:\n",
    "    text = document['Section']+\"\\n\"+ document['Question']+\"\\n\"+ document['Answer']\n",
    "    combined_documents.append(text)"
   ]
  },
  {
   "cell_type": "code",
   "execution_count": 10,
   "id": "b6de3083-7181-4985-825b-b8e85143c1cb",
   "metadata": {},
   "outputs": [
    {
     "data": {
      "text/plain": [
       "\"Digital Driver Licence\\nI'm concerned about safety and privacy as someone who has experienced family violence. How can I protect my personal details?\\nCustomers impacted by family violence can contact us through our dedicated phone line or email:\\nPhone: 1300 031 292 (business hours)\\nEmail: assistance@roads.vic.gov.au\\nYou can leave your contact number if the telephone line is unavailable or unattended. Our service also supports agencies acting on behalf of affected persons. \\n\""
      ]
     },
     "execution_count": 10,
     "metadata": {},
     "output_type": "execute_result"
    }
   ],
   "source": [
    "combined_documents[1]"
   ]
  },
  {
   "cell_type": "code",
   "execution_count": 11,
   "id": "7794fd39-ff08-4a90-af0a-8f76ef3dbea6",
   "metadata": {},
   "outputs": [],
   "source": [
    "embeddings = []\n",
    "\n",
    "for doc in combined_documents:\n",
    "    embeddings.append(embedding_model.encode(doc))"
   ]
  },
  {
   "cell_type": "code",
   "execution_count": 37,
   "id": "51b3ec0e-ceea-48f3-ad1a-ff29de68fbfb",
   "metadata": {},
   "outputs": [],
   "source": [
    "embeddings = np.array(embeddings).astype('float32')"
   ]
  },
  {
   "cell_type": "code",
   "execution_count": 38,
   "id": "5c117abf-717a-482c-bc4f-568f1d4f94b4",
   "metadata": {},
   "outputs": [],
   "source": [
    "index = faiss.IndexFlatL2(768) "
   ]
  },
  {
   "cell_type": "code",
   "execution_count": 39,
   "id": "d35cd310-8afc-46b1-be4a-109f1c53ee34",
   "metadata": {},
   "outputs": [],
   "source": [
    "index.add(embeddings)"
   ]
  },
  {
   "cell_type": "code",
   "execution_count": 40,
   "id": "945741dc-4496-4af4-82a2-3abe08e4261b",
   "metadata": {},
   "outputs": [
    {
     "data": {
      "text/plain": [
       "(157, 768)"
      ]
     },
     "execution_count": 40,
     "metadata": {},
     "output_type": "execute_result"
    }
   ],
   "source": [
    "embeddings.shape"
   ]
  },
  {
   "cell_type": "code",
   "execution_count": 64,
   "id": "cca51bf1-ae1a-4635-9037-806d3060115c",
   "metadata": {},
   "outputs": [],
   "source": [
    "query = \"I am still on my P's, can I get digital licence\"\n",
    "query_embedding = embedding_model.encode(query)\n",
    "query_embedding = np.array(query_embedding).astype('float32').reshape(1,-1)"
   ]
  },
  {
   "cell_type": "code",
   "execution_count": 65,
   "id": "40fe682c-2d46-4bed-9d68-244e222d75bd",
   "metadata": {},
   "outputs": [],
   "source": [
    "k = 5  # Number of results to retrieve\n",
    "distances, indices = index.search(query_embedding, k)"
   ]
  },
  {
   "cell_type": "code",
   "execution_count": 66,
   "id": "cebfba89-89e2-480b-bbd5-9d4f79af52dc",
   "metadata": {},
   "outputs": [
    {
     "name": "stdout",
     "output_type": "stream",
     "text": [
      "Result 1:\n",
      "Section: Digital Driver Licence\n",
      "Question: Once downloaded, will I be able to use my digital licence immediately at all locations where I currently present my physical licence?\n",
      "Answer: In most locations, yes you will. But we ask for patience, because many establishments will still be in the process of including digital driver licence in their systems once the roll out is live. We encourage you to carry your physical licence to avoid potential issues.\n",
      "Distance: 0.7248924374580383\n",
      "\n",
      "Result 2:\n",
      "Section: Digital Driver Licence\n",
      "Question: How to get your digital licence?\n",
      "Answer: To get your digital driver licence, you’ll need a myVicRoads account\n",
      "Download the myVicRoads app via Google Play or through the App store and log in with your myVicRoads account.\n",
      "Reset your password from the login screen if you need (click ‘forgotten password’)\n",
      "Follow the prompts to activate two-step verification (if this isn’t already enabled).\n",
      "Distance: 0.7314901351928711\n",
      "\n",
      "Result 3:\n",
      "Section: Digital Driver Licence\n",
      "Question: What is a digital licence?\n",
      "Answer: A digital licence is a quick, easy, and secure way to provide your licence status, access licencing information to verify your identity, or prove you are over 18. Your digital driver licence can be accessed directly from the myVicRoads or Service Victoria app.\n",
      "\n",
      "You can use your digital licence: \n",
      "to prove your right to drive.\n",
      "as proof you’re over 18 at licensed venues or\n",
      "anywhere you need to prove your identity (such as retailers or hotels)\n",
      "Using a digital licence is optional as physical licences will continue to be issued for all Victorian drivers and can continue to be used for identification purposes. \n",
      "\n",
      "Distance: 0.7340691089630127\n",
      "\n",
      "Result 4:\n",
      "Section: Digital Driver Licence\n",
      "Question: What happens if my licence status changes from Full Licence to Probationary? Will I still have a digital driver licence?\n",
      "Answer: If you change from full licence status back down to a Probationary licence, you will lose access to your digital driver licence. This is because currently only full licence holders have access to the digital driver licence. You will be able to access to your digital licence when you regain full licence status \n",
      "Distance: 0.7487837076187134\n",
      "\n",
      "Result 5:\n",
      "Section: Digital Driver Licence\n",
      "Question: What if I need to share a copy of my licence?\n",
      "Answer: Right now, there’s no way for you to share a copy of your digital licence. Businesses shouldn’t hold onto copies of your details unless they really need to. Keeping copies of this information is a fraud risk. We don’t recommend that anyone shares screen shots of digital licences.\n",
      "Distance: 0.8183789253234863\n",
      "\n"
     ]
    }
   ],
   "source": [
    "for i, idx in enumerate(indices[0]):\n",
    "    if idx < len(raw_documents):  # Ensure the index is within bounds\n",
    "        print(f\"Result {i + 1}:\")\n",
    "        print(f\"Section: {raw_documents[idx]['Section']}\")\n",
    "        print(f\"Question: {raw_documents[idx]['Question']}\")\n",
    "        print(f\"Answer: {raw_documents[idx]['Answer']}\")\n",
    "        print(f\"Distance: {distances[0][i]}\\n\")\n",
    "    else:\n",
    "        print(f\"Result {i + 1}: No corresponding FAQ found for index {idx}\")"
   ]
  },
  {
   "cell_type": "code",
   "execution_count": null,
   "id": "ce26bee3-f8f1-44f0-b6c7-d46365821071",
   "metadata": {},
   "outputs": [],
   "source": []
  }
 ],
 "metadata": {
  "kernelspec": {
   "display_name": "Python 3 (ipykernel)",
   "language": "python",
   "name": "python3"
  },
  "language_info": {
   "codemirror_mode": {
    "name": "ipython",
    "version": 3
   },
   "file_extension": ".py",
   "mimetype": "text/x-python",
   "name": "python",
   "nbconvert_exporter": "python",
   "pygments_lexer": "ipython3",
   "version": "3.12.1"
  }
 },
 "nbformat": 4,
 "nbformat_minor": 5
}

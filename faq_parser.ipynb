{
 "cells": [
  {
   "cell_type": "code",
   "execution_count": 2,
   "id": "16c267d3-4c18-4e79-9193-9643dd8e8f26",
   "metadata": {},
   "outputs": [],
   "source": [
    "import csv\n",
    "import json"
   ]
  },
  {
   "cell_type": "code",
   "execution_count": 3,
   "id": "eff719eb-7a3a-4c3f-994a-2130fb456ecb",
   "metadata": {},
   "outputs": [],
   "source": [
    "# function to convert CSV to JSON\n",
    "def csv_to_json(csv_file, json_file):\n",
    "\n",
    "    with open(csv_file, mode='r', encoding='utf-8') as file:\n",
    "        # uses headers as dictionary keys\n",
    "        csv_reader = csv.DictReader(file)  \n",
    "        \n",
    "        # create a list to hold the rows\n",
    "        data = []\n",
    "        \n",
    "        # iterate over each row and append to the list\n",
    "        for row in csv_reader:\n",
    "            data.append(row)\n",
    "    \n",
    "    # write to JSON file\n",
    "    with open(json_file, mode='w', encoding='utf-8') as file:\n",
    "        json.dump(data, file, indent=4, ensure_ascii=False)  "
   ]
  },
  {
   "cell_type": "code",
   "execution_count": 4,
   "id": "6f4ca63d-5887-4a39-b751-4f6c80dce86c",
   "metadata": {},
   "outputs": [],
   "source": [
    "# converting to json\n",
    "csv_file = 'FAQ.csv'  \n",
    "json_file = 'vicRoads_faq.json' \n",
    "csv_to_json(csv_file, json_file)"
   ]
  },
  {
   "cell_type": "code",
   "execution_count": null,
   "id": "e82659d6-fc8f-46de-a193-43b77c099ddd",
   "metadata": {},
   "outputs": [],
   "source": []
  }
 ],
 "metadata": {
  "kernelspec": {
   "display_name": "Python 3 (ipykernel)",
   "language": "python",
   "name": "python3"
  },
  "language_info": {
   "codemirror_mode": {
    "name": "ipython",
    "version": 3
   },
   "file_extension": ".py",
   "mimetype": "text/x-python",
   "name": "python",
   "nbconvert_exporter": "python",
   "pygments_lexer": "ipython3",
   "version": "3.12.1"
  }
 },
 "nbformat": 4,
 "nbformat_minor": 5
}
